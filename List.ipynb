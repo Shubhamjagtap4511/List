{
 "cells": [
  {
   "cell_type": "markdown",
   "id": "5fbffc57",
   "metadata": {},
   "source": [
    "# List"
   ]
  },
  {
   "cell_type": "raw",
   "id": "7523bdc8",
   "metadata": {},
   "source": [
    "1)List are used to store multipe items in a single varible.\n",
    "2)List store in square brackets.\n",
    "3)List is datatypes in python.\n",
    "4)Array and list fandametly are same but same difference array homogenous list hetrogenous.\n",
    "5)You take any data in list.\n",
    "6)Creating list two type of create homogenous or Hetrogenous."
   ]
  },
  {
   "cell_type": "raw",
   "id": "2c7513b6",
   "metadata": {},
   "source": [
    "#List\n",
    "1.what is a list\n",
    "1. list vs array\n",
    "2. Create\n",
    "3. Access\n",
    "4. Edit\n",
    "5. Add\n",
    "6. Delete\n",
    "7. operations\n",
    "8. Function"
   ]
  },
  {
   "cell_type": "code",
   "execution_count": 1,
   "id": "ea360fc5",
   "metadata": {},
   "outputs": [
    {
     "data": {
      "text/plain": [
       "[1, 2, 3, 4]"
      ]
     },
     "execution_count": 1,
     "metadata": {},
     "output_type": "execute_result"
    }
   ],
   "source": [
    "#1) Homogenous Same data type use in list\n",
    "[1,2,3,4]"
   ]
  },
  {
   "cell_type": "code",
   "execution_count": 2,
   "id": "1be17b67",
   "metadata": {},
   "outputs": [
    {
     "data": {
      "text/plain": [
       "[1, 2, 'hello', 2.3, True]"
      ]
     },
     "execution_count": 2,
     "metadata": {},
     "output_type": "execute_result"
    }
   ],
   "source": [
    "#2) Hetrogenous : different data type use in list\n",
    "[1,2,'hello',2.3,True]"
   ]
  },
  {
   "cell_type": "code",
   "execution_count": 3,
   "id": "fd880e58",
   "metadata": {},
   "outputs": [
    {
     "data": {
      "text/plain": [
       "[[1, 2, 3], [4, 5]]"
      ]
     },
     "execution_count": 3,
     "metadata": {},
     "output_type": "execute_result"
    }
   ],
   "source": [
    "# Multi dim list 2 D list\n",
    "l=[[1,2,3],[4,5]]\n",
    "l"
   ]
  },
  {
   "cell_type": "code",
   "execution_count": 4,
   "id": "0ce55304",
   "metadata": {},
   "outputs": [
    {
     "data": {
      "text/plain": [
       "[[[1, 2], [3, 4]], [5, 6]]"
      ]
     },
     "execution_count": 4,
     "metadata": {},
     "output_type": "execute_result"
    }
   ],
   "source": [
    "#3 d list\n",
    "l2=[[[1,2],[3,4]],[5,6]]\n",
    "l2"
   ]
  },
  {
   "cell_type": "code",
   "execution_count": 5,
   "id": "f4fd951d",
   "metadata": {},
   "outputs": [
    {
     "data": {
      "text/plain": [
       "['h', 'a', 'l', 'd', 'i', 'a']"
      ]
     },
     "execution_count": 5,
     "metadata": {},
     "output_type": "execute_result"
    }
   ],
   "source": [
    "l3=list('haldia')\n",
    "l3"
   ]
  },
  {
   "cell_type": "code",
   "execution_count": 6,
   "id": "058fa62a",
   "metadata": {},
   "outputs": [
    {
     "data": {
      "text/plain": [
       "1"
      ]
     },
     "execution_count": 6,
     "metadata": {},
     "output_type": "execute_result"
    }
   ],
   "source": [
    "#Access\n",
    "l4=[1,2,3,4,5]\n",
    "l4[0]"
   ]
  },
  {
   "cell_type": "code",
   "execution_count": 7,
   "id": "5c4232d0",
   "metadata": {},
   "outputs": [
    {
     "data": {
      "text/plain": [
       "[2, 3]"
      ]
     },
     "execution_count": 7,
     "metadata": {},
     "output_type": "execute_result"
    }
   ],
   "source": [
    "l4[1:3]"
   ]
  },
  {
   "cell_type": "code",
   "execution_count": 8,
   "id": "7053b191",
   "metadata": {},
   "outputs": [
    {
     "data": {
      "text/plain": [
       "[5, 4, 3, 2, 1]"
      ]
     },
     "execution_count": 8,
     "metadata": {},
     "output_type": "execute_result"
    }
   ],
   "source": [
    "l4[::-1]"
   ]
  },
  {
   "cell_type": "code",
   "execution_count": 9,
   "id": "b51b81a6",
   "metadata": {},
   "outputs": [
    {
     "data": {
      "text/plain": [
       "4"
      ]
     },
     "execution_count": 9,
     "metadata": {},
     "output_type": "execute_result"
    }
   ],
   "source": [
    "l5=[1,2,3,[4,5]]\n",
    "l5[3][0]"
   ]
  },
  {
   "cell_type": "code",
   "execution_count": 10,
   "id": "7da2d6e7",
   "metadata": {},
   "outputs": [
    {
     "data": {
      "text/plain": [
       "[4, 5]"
      ]
     },
     "execution_count": 10,
     "metadata": {},
     "output_type": "execute_result"
    }
   ],
   "source": [
    "l5[-1]"
   ]
  },
  {
   "cell_type": "code",
   "execution_count": 11,
   "id": "0f2bca8b",
   "metadata": {},
   "outputs": [
    {
     "data": {
      "text/plain": [
       "[4, 5]"
      ]
     },
     "execution_count": 11,
     "metadata": {},
     "output_type": "execute_result"
    }
   ],
   "source": [
    "x=l5[-1]\n",
    "x"
   ]
  },
  {
   "cell_type": "code",
   "execution_count": 12,
   "id": "89175204",
   "metadata": {},
   "outputs": [
    {
     "data": {
      "text/plain": [
       "4"
      ]
     },
     "execution_count": 12,
     "metadata": {},
     "output_type": "execute_result"
    }
   ],
   "source": [
    "x[0]"
   ]
  },
  {
   "cell_type": "code",
   "execution_count": 13,
   "id": "695b990c",
   "metadata": {},
   "outputs": [
    {
     "data": {
      "text/plain": [
       "4"
      ]
     },
     "execution_count": 13,
     "metadata": {},
     "output_type": "execute_result"
    }
   ],
   "source": [
    "l5[-1][0]"
   ]
  },
  {
   "cell_type": "code",
   "execution_count": 14,
   "id": "6f407f2c",
   "metadata": {},
   "outputs": [
    {
     "data": {
      "text/plain": [
       "[[[1, 2], [3, 4]], [[5, 6], [7, 8]]]"
      ]
     },
     "execution_count": 14,
     "metadata": {},
     "output_type": "execute_result"
    }
   ],
   "source": [
    "l6=[[[1,2],[3,4]],[[5,6],[7,8]]]\n",
    "l6"
   ]
  },
  {
   "cell_type": "code",
   "execution_count": 15,
   "id": "e5214b88",
   "metadata": {},
   "outputs": [
    {
     "data": {
      "text/plain": [
       "7"
      ]
     },
     "execution_count": 15,
     "metadata": {},
     "output_type": "execute_result"
    }
   ],
   "source": [
    "#3d list access 7\n",
    "l6[1][1][0]"
   ]
  },
  {
   "cell_type": "code",
   "execution_count": 16,
   "id": "80cc6518",
   "metadata": {},
   "outputs": [
    {
     "data": {
      "text/plain": [
       "[1, 2, 3, 4, 5]"
      ]
     },
     "execution_count": 16,
     "metadata": {},
     "output_type": "execute_result"
    }
   ],
   "source": [
    "# edit\n",
    "l4"
   ]
  },
  {
   "cell_type": "code",
   "execution_count": 17,
   "id": "bc8cfefd",
   "metadata": {},
   "outputs": [],
   "source": [
    "l4[0]=100"
   ]
  },
  {
   "cell_type": "code",
   "execution_count": 18,
   "id": "79b3120c",
   "metadata": {},
   "outputs": [],
   "source": [
    "l4\n",
    "#list in python are mutable\n",
    "l4[-1]=500"
   ]
  },
  {
   "cell_type": "code",
   "execution_count": 19,
   "id": "dc53d1f9",
   "metadata": {},
   "outputs": [
    {
     "data": {
      "text/plain": [
       "[100, 2, 3, 4, 500]"
      ]
     },
     "execution_count": 19,
     "metadata": {},
     "output_type": "execute_result"
    }
   ],
   "source": [
    "l4"
   ]
  },
  {
   "cell_type": "code",
   "execution_count": 20,
   "id": "d8c13955",
   "metadata": {},
   "outputs": [],
   "source": [
    "l4[1:4]=[200,300,400]"
   ]
  },
  {
   "cell_type": "code",
   "execution_count": 21,
   "id": "39225f0f",
   "metadata": {},
   "outputs": [
    {
     "data": {
      "text/plain": [
       "[100, 200, 300, 400, 500]"
      ]
     },
     "execution_count": 21,
     "metadata": {},
     "output_type": "execute_result"
    }
   ],
   "source": [
    "l4"
   ]
  },
  {
   "cell_type": "code",
   "execution_count": 22,
   "id": "82b16525",
   "metadata": {},
   "outputs": [
    {
     "data": {
      "text/plain": [
       "[100, 200, 300, 400, 500]"
      ]
     },
     "execution_count": 22,
     "metadata": {},
     "output_type": "execute_result"
    }
   ],
   "source": [
    "# how to add new item in list\n",
    "#add\n",
    "#1append\n",
    "#2 extend\n",
    "#3 insert\n",
    "l4"
   ]
  },
  {
   "cell_type": "code",
   "execution_count": 23,
   "id": "40ee44d3",
   "metadata": {},
   "outputs": [
    {
     "data": {
      "text/plain": [
       "[100, 200, 300, 400, 500, 1000]"
      ]
     },
     "execution_count": 23,
     "metadata": {},
     "output_type": "execute_result"
    }
   ],
   "source": [
    "l4.append(1000)\n",
    "l4"
   ]
  },
  {
   "cell_type": "code",
   "execution_count": 25,
   "id": "4fcf5680",
   "metadata": {},
   "outputs": [
    {
     "data": {
      "text/plain": [
       "[100, 200, 300, 400, 500, 1000, [5, 6], [5, 6]]"
      ]
     },
     "execution_count": 25,
     "metadata": {},
     "output_type": "execute_result"
    }
   ],
   "source": [
    "l4.append([5,6])\n",
    "l4"
   ]
  },
  {
   "cell_type": "code",
   "execution_count": 27,
   "id": "c66d58b5",
   "metadata": {},
   "outputs": [
    {
     "data": {
      "text/plain": [
       "[1, 2, 3, [4, 5], 'g', 'o', 'a', 'g', 'o', 'a']"
      ]
     },
     "execution_count": 27,
     "metadata": {},
     "output_type": "execute_result"
    }
   ],
   "source": [
    "l5.extend('goa')\n",
    "l5"
   ]
  },
  {
   "cell_type": "code",
   "execution_count": 28,
   "id": "4cb18559",
   "metadata": {},
   "outputs": [
    {
     "data": {
      "text/plain": [
       "[100, 'world', 200, 300, 400, 500, 1000, [5, 6], [5, 6]]"
      ]
     },
     "execution_count": 28,
     "metadata": {},
     "output_type": "execute_result"
    }
   ],
   "source": [
    "l4.insert(1,'world')\n",
    "l4"
   ]
  },
  {
   "cell_type": "code",
   "execution_count": 29,
   "id": "af83e38c",
   "metadata": {},
   "outputs": [],
   "source": [
    "#Delete\n",
    "# 1 del\n",
    "# 2 remove\n",
    "# 3 pop\n",
    "# 4 clear\n"
   ]
  },
  {
   "cell_type": "code",
   "execution_count": 30,
   "id": "7b543027",
   "metadata": {},
   "outputs": [],
   "source": [
    "# 1 Del\n",
    "del l2"
   ]
  },
  {
   "cell_type": "code",
   "execution_count": 31,
   "id": "45727541",
   "metadata": {},
   "outputs": [
    {
     "ename": "NameError",
     "evalue": "name 'l2' is not defined",
     "output_type": "error",
     "traceback": [
      "\u001b[1;31m---------------------------------------------------------------------------\u001b[0m",
      "\u001b[1;31mNameError\u001b[0m                                 Traceback (most recent call last)",
      "\u001b[1;32m~\\AppData\\Local\\Temp/ipykernel_8416/2371406284.py\u001b[0m in \u001b[0;36m<module>\u001b[1;34m\u001b[0m\n\u001b[1;32m----> 1\u001b[1;33m \u001b[0ml2\u001b[0m\u001b[1;33m\u001b[0m\u001b[1;33m\u001b[0m\u001b[0m\n\u001b[0m",
      "\u001b[1;31mNameError\u001b[0m: name 'l2' is not defined"
     ]
    }
   ],
   "source": [
    "l2"
   ]
  },
  {
   "cell_type": "code",
   "execution_count": 32,
   "id": "51fadce6",
   "metadata": {},
   "outputs": [
    {
     "data": {
      "text/plain": [
       "['world', 200, 300, 400, 500, 1000, [5, 6], [5, 6]]"
      ]
     },
     "execution_count": 32,
     "metadata": {},
     "output_type": "execute_result"
    }
   ],
   "source": [
    "del l4[0]\n",
    "l4"
   ]
  },
  {
   "cell_type": "code",
   "execution_count": 33,
   "id": "b702490a",
   "metadata": {},
   "outputs": [
    {
     "data": {
      "text/plain": [
       "['world', 200, 300, 400, 500, 1000, [5, 6]]"
      ]
     },
     "execution_count": 33,
     "metadata": {},
     "output_type": "execute_result"
    }
   ],
   "source": [
    "del l4[-1]\n",
    "l4"
   ]
  },
  {
   "cell_type": "code",
   "execution_count": 34,
   "id": "20a1ed77",
   "metadata": {},
   "outputs": [
    {
     "data": {
      "text/plain": [
       "['world', 200, 300, 500, 1000, [5, 6]]"
      ]
     },
     "execution_count": 34,
     "metadata": {},
     "output_type": "execute_result"
    }
   ],
   "source": [
    "# dont know index position that time use\n",
    "l4.remove(400)\n",
    "l4"
   ]
  },
  {
   "cell_type": "code",
   "execution_count": 35,
   "id": "d4c2caa1",
   "metadata": {},
   "outputs": [
    {
     "data": {
      "text/plain": [
       "['world', 200, 300, 500, 1000]"
      ]
     },
     "execution_count": 35,
     "metadata": {},
     "output_type": "execute_result"
    }
   ],
   "source": [
    "# last itme delete\n",
    "l4.pop()\n",
    "l4"
   ]
  },
  {
   "cell_type": "code",
   "execution_count": 37,
   "id": "a87c2c89",
   "metadata": {},
   "outputs": [
    {
     "data": {
      "text/plain": [
       "[]"
      ]
     },
     "execution_count": 37,
     "metadata": {},
     "output_type": "execute_result"
    }
   ],
   "source": [
    "# clear use for convert to the emptey list\n",
    "l4.clear()\n",
    "l4"
   ]
  },
  {
   "cell_type": "code",
   "execution_count": 38,
   "id": "788e6cb0",
   "metadata": {},
   "outputs": [
    {
     "data": {
      "text/plain": [
       "[1, 2, 3, 4, 4, 5, 6, 7]"
      ]
     },
     "execution_count": 38,
     "metadata": {},
     "output_type": "execute_result"
    }
   ],
   "source": [
    "# Opration in List\n",
    "l=[1,2,3,4]\n",
    "l2=[4,5,6,7]\n",
    "l+l2"
   ]
  },
  {
   "cell_type": "code",
   "execution_count": 39,
   "id": "f6ed8aa7",
   "metadata": {},
   "outputs": [
    {
     "data": {
      "text/plain": [
       "[1, 2, 3, 4, 1, 2, 3, 4, 1, 2, 3, 4]"
      ]
     },
     "execution_count": 39,
     "metadata": {},
     "output_type": "execute_result"
    }
   ],
   "source": [
    "l*3"
   ]
  },
  {
   "cell_type": "code",
   "execution_count": 43,
   "id": "3a38e966",
   "metadata": {},
   "outputs": [
    {
     "name": "stdout",
     "output_type": "stream",
     "text": [
      "1\n",
      "2\n",
      "3\n",
      "4\n"
     ]
    }
   ],
   "source": [
    "for i in l:\n",
    "    print(i)"
   ]
  },
  {
   "cell_type": "code",
   "execution_count": 44,
   "id": "737a97be",
   "metadata": {},
   "outputs": [
    {
     "name": "stdout",
     "output_type": "stream",
     "text": [
      "4\n",
      "5\n",
      "6\n",
      "7\n"
     ]
    }
   ],
   "source": [
    "for i in l2:\n",
    "    print(i)"
   ]
  },
  {
   "cell_type": "code",
   "execution_count": 45,
   "id": "1a178434",
   "metadata": {},
   "outputs": [
    {
     "data": {
      "text/plain": [
       "True"
      ]
     },
     "execution_count": 45,
     "metadata": {},
     "output_type": "execute_result"
    }
   ],
   "source": [
    "4 in l2"
   ]
  },
  {
   "cell_type": "code",
   "execution_count": 46,
   "id": "c87f71e2",
   "metadata": {},
   "outputs": [
    {
     "data": {
      "text/plain": [
       "4"
      ]
     },
     "execution_count": 46,
     "metadata": {},
     "output_type": "execute_result"
    }
   ],
   "source": [
    "#function in List\n",
    "len(l)"
   ]
  },
  {
   "cell_type": "code",
   "execution_count": 47,
   "id": "00e07aed",
   "metadata": {},
   "outputs": [
    {
     "data": {
      "text/plain": [
       "1"
      ]
     },
     "execution_count": 47,
     "metadata": {},
     "output_type": "execute_result"
    }
   ],
   "source": [
    "min(l)"
   ]
  },
  {
   "cell_type": "code",
   "execution_count": 48,
   "id": "8b90812a",
   "metadata": {},
   "outputs": [
    {
     "data": {
      "text/plain": [
       "4"
      ]
     },
     "execution_count": 48,
     "metadata": {},
     "output_type": "execute_result"
    }
   ],
   "source": [
    "max(l)"
   ]
  },
  {
   "cell_type": "code",
   "execution_count": 49,
   "id": "a574104a",
   "metadata": {},
   "outputs": [
    {
     "data": {
      "text/plain": [
       "[1, 2, 3, 4]"
      ]
     },
     "execution_count": 49,
     "metadata": {},
     "output_type": "execute_result"
    }
   ],
   "source": [
    "# temp sort\n",
    "sorted(l)"
   ]
  },
  {
   "cell_type": "code",
   "execution_count": 51,
   "id": "e5736373",
   "metadata": {},
   "outputs": [
    {
     "data": {
      "text/plain": [
       "[4, 3, 2, 1]"
      ]
     },
     "execution_count": 51,
     "metadata": {},
     "output_type": "execute_result"
    }
   ],
   "source": [
    "sorted(l,reverse=True)"
   ]
  },
  {
   "cell_type": "code",
   "execution_count": 53,
   "id": "5cf981ab",
   "metadata": {},
   "outputs": [],
   "source": [
    "# Par sort\n",
    "l.sort()"
   ]
  },
  {
   "cell_type": "code",
   "execution_count": 54,
   "id": "90101578",
   "metadata": {},
   "outputs": [],
   "source": [
    "l.sort(reverse=1)"
   ]
  },
  {
   "cell_type": "code",
   "execution_count": 55,
   "id": "bc89c888",
   "metadata": {},
   "outputs": [
    {
     "data": {
      "text/plain": [
       "[4, 3, 2, 1]"
      ]
     },
     "execution_count": 55,
     "metadata": {},
     "output_type": "execute_result"
    }
   ],
   "source": [
    "l"
   ]
  },
  {
   "cell_type": "code",
   "execution_count": 57,
   "id": "5d665db2",
   "metadata": {},
   "outputs": [
    {
     "data": {
      "text/plain": [
       "[1, 2, 3, 4]"
      ]
     },
     "execution_count": 57,
     "metadata": {},
     "output_type": "execute_result"
    }
   ],
   "source": [
    "l.sort()\n",
    "l"
   ]
  },
  {
   "cell_type": "code",
   "execution_count": 58,
   "id": "e2a5c597",
   "metadata": {},
   "outputs": [
    {
     "data": {
      "text/plain": [
       "2"
      ]
     },
     "execution_count": 58,
     "metadata": {},
     "output_type": "execute_result"
    }
   ],
   "source": [
    "l.index(3)"
   ]
  },
  {
   "cell_type": "code",
   "execution_count": null,
   "id": "f38f45dd",
   "metadata": {},
   "outputs": [],
   "source": []
  }
 ],
 "metadata": {
  "kernelspec": {
   "display_name": "Python 3 (ipykernel)",
   "language": "python",
   "name": "python3"
  },
  "language_info": {
   "codemirror_mode": {
    "name": "ipython",
    "version": 3
   },
   "file_extension": ".py",
   "mimetype": "text/x-python",
   "name": "python",
   "nbconvert_exporter": "python",
   "pygments_lexer": "ipython3",
   "version": "3.9.7"
  }
 },
 "nbformat": 4,
 "nbformat_minor": 5
}
